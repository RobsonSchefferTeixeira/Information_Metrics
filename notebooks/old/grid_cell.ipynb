{
 "cells": [
  {
   "cell_type": "code",
   "execution_count": 8,
   "id": "fbeda192-1aef-43cc-92b3-a8de54b5a66a",
   "metadata": {},
   "outputs": [],
   "source": [
    "\n",
    "%matplotlib widget\n",
    "\n",
    "import cell_model_base as cs_model\n",
    "import detect_peaks as dp\n",
    "import numpy as np\n",
    "import matplotlib.pyplot as plt\n",
    "import spatial_metrics_base as pl\n",
    "import os\n",
    "import helper_functions as hf\n",
    "import scipy.stats as stats\n",
    "\n",
    "path = os.path.abspath(os.path.dirname(pl.__file__))\n",
    "\n"
   ]
  },
  {
   "cell_type": "code",
   "execution_count": 25,
   "id": "4b295eef-0101-4206-9a3e-f1d9e3da5c09",
   "metadata": {},
   "outputs": [],
   "source": [
    "\n",
    "mean_video_srate = 100.\n",
    "total_Time = 500\n",
    "_lambda = 10\n",
    "\n",
    "x_coordinates,y_coordinates,speed,timevector = cs_model.generate_randomWalk2(input_srate = mean_video_srate,input_total_Time = total_Time,heading_srate = 10., speed_srate = 5., rho1  = 1,sigma = 0.02,mu_e  = 0.,smooth_coeff = 0.5)\n",
    "All_arrival_time,I_timestamps = cs_model.generate_arrivals(_lambda,total_Time)\n",
    "\n",
    "# modulated_timestamps = cs_model.digitize_spiketimes(x_coordinates,y_coordinates,I_timestamps,x_center = 50,y_center = 50, s = 5)\n",
    "\n",
    "# modulated_timestamps1 = cs_model.digitize_spiketimes(x_coordinates,y_coordinates,I_timestamps,x_center = 50,y_center = 50, s = 5)\n",
    "# modulated_timestamps2 = cs_model.digitize_spiketimes(x_coordinates,y_coordinates,I_timestamps,x_center = 10,y_center = 10, s = 5)\n",
    "# modulated_timestamps3 = cs_model.digitize_spiketimes(x_coordinates,y_coordinates,I_timestamps,x_center = 10,y_center = 90, s = 5)\n",
    "# modulated_timestamps4 = cs_model.digitize_spiketimes(x_coordinates,y_coordinates,I_timestamps,x_center = 90,y_center = 90, s = 5)\n",
    "# modulated_timestamps5 = cs_model.digitize_spiketimes(x_coordinates,y_coordinates,I_timestamps,x_center = 90,y_center = 10, s = 5)\n",
    "# modulated_timestamps = np.unique(np.concatenate([modulated_timestamps1,modulated_timestamps2,modulated_timestamps3,modulated_timestamps4,modulated_timestamps5]))\n",
    "\n",
    "modulated_timestamps1 = cs_model.digitize_spiketimes(x_coordinates,y_coordinates,I_timestamps,x_center = 50, y_center = 90, s = 5)\n",
    "modulated_timestamps2 = cs_model.digitize_spiketimes(x_coordinates,y_coordinates,I_timestamps,x_center = 10, y_center = 10, s = 5)\n",
    "modulated_timestamps3 = cs_model.digitize_spiketimes(x_coordinates,y_coordinates,I_timestamps,x_center = 90, y_center = 10, s = 5)\n",
    "modulated_timestamps = np.unique(np.concatenate([modulated_timestamps1,modulated_timestamps2,modulated_timestamps3]))\n",
    "\n",
    "\n",
    "modulated_timestamps = np.sort(np.random.choice(modulated_timestamps,50,replace=False))\n",
    "# modulated_timestamps = np.sort(np.random.choice(I_timestamps,50,replace=False))\n",
    "\n",
    "calcium_imag,timevector = cs_model.generate_CalciumSignal(modulated_timestamps,noise_level = 0.01, b = 5.)\n",
    "calcium_events = modulated_timestamps.shape[0]\n",
    "I_peaks = dp.detect_peaks(calcium_imag,mpd=0.5*mean_video_srate,mph=1.*np.nanstd(calcium_imag))\n",
    "\n",
    "\n",
    "place_cell = pl.PlaceCell(RatSession='Sst',day = 1, ch = 1, dataset = 'Exploration',mean_video_srate = 100.,mintimespent = 0.1,\n",
    "                          minvisits = 1, speed_threshold = 2.5, nbins_cal = 10, num_surrogates = 200,num_cores = 20, nbins_pos_x = 10, \n",
    "                          nbins_pos_y = 10, placefield_nbins_pos_x = 50, placefield_nbins_pos_y = 50,saving = False,saving_string='CI')\n",
    "\n"
   ]
  },
  {
   "cell_type": "code",
   "execution_count": null,
   "id": "749f74dc-db9d-420b-b609-eaadc0b36cb6",
   "metadata": {},
   "outputs": [],
   "source": []
  },
  {
   "cell_type": "code",
   "execution_count": 21,
   "id": "1658cdb8-3b56-4ebc-aeae-384bf6084b30",
   "metadata": {},
   "outputs": [
    {
     "name": "stderr",
     "output_type": "stream",
     "text": [
      "/home/apolo/Documents/DataAnalysis/Projects/CalciumSignalAnalysis/spatial_metrics_base.py:196: RuntimeWarning: Mean of empty slice\n",
      "  calcium_mean_occupancy[yy,xx] = np.nanmean(mean_calcium_to_behavior_speed[np.logical_and(check_x_ocuppancy,check_y_ocuppancy)])\n"
     ]
    },
    {
     "name": "stdout",
     "output_type": "stream",
     "text": [
      "File not saved!\n"
     ]
    }
   ],
   "source": [
    " Les Mills"
   ]
  },
  {
   "cell_type": "code",
   "execution_count": 22,
   "id": "6d148ac6-9b78-4e14-b669-6fa51355e6d4",
   "metadata": {},
   "outputs": [
    {
     "data": {
      "text/plain": [
       "dict_keys(['signalMap', 'place_field', 'place_field_smoothed', 'ocuppancyMap', 'visitsMap', 'x_grid', 'y_grid', 'x_center_bins', 'y_center_bins', 'numb_events', 'events_index', 'mutualInfo_original', 'mutualInfo_zscored', 'mutualInfo_permutation', 'sparsity', 'gridness_permutation', 'gridness_original', 'gridness_zscored'])"
      ]
     },
     "execution_count": 22,
     "metadata": {},
     "output_type": "execute_result"
    }
   ],
   "source": [
    "\n",
    "PlaceCellObject.keys()\n"
   ]
  },
  {
   "cell_type": "code",
   "execution_count": 23,
   "id": "dd323a33-c181-453d-9696-53806ab847b0",
   "metadata": {},
   "outputs": [
    {
     "data": {
      "application/vnd.jupyter.widget-view+json": {
       "model_id": "444f51ed88ad4dd1a0c96d787bba2383",
       "version_major": 2,
       "version_minor": 0
      },
      "text/plain": [
       "Canvas(toolbar=Toolbar(toolitems=[('Home', 'Reset original view', 'home', 'home'), ('Back', 'Back to previous …"
      ]
     },
     "metadata": {},
     "output_type": "display_data"
    }
   ],
   "source": [
    "\n",
    "plt.figure()\n",
    "plt.hist(PlaceCellObject['gridness_permutation'],20)\n",
    "plt.plot([PlaceCellObject['gridness_original'],PlaceCellObject['gridness_original']],[0,25],'r--',linewidth=2)\n",
    "plt.title(PlaceCellObject['gridness_zscored'])\n",
    "plt.show()\n"
   ]
  },
  {
   "cell_type": "code",
   "execution_count": null,
   "id": "5b54d03d-b485-4782-99f2-032c14e3d79c",
   "metadata": {},
   "outputs": [],
   "source": []
  },
  {
   "cell_type": "code",
   "execution_count": null,
   "id": "f08b0869-6713-4ecf-b857-3b9d71717742",
   "metadata": {},
   "outputs": [],
   "source": []
  },
  {
   "cell_type": "code",
   "execution_count": 24,
   "id": "ce47f4f0-8c92-448d-afaa-ea0100ccda0f",
   "metadata": {},
   "outputs": [
    {
     "data": {
      "application/vnd.jupyter.widget-view+json": {
       "model_id": "fe0bce77f1924545b981fce132fbfb40",
       "version_major": 2,
       "version_minor": 0
      },
      "text/plain": [
       "Canvas(toolbar=Toolbar(toolitems=[('Home', 'Reset original view', 'home', 'home'), ('Back', 'Back to previous …"
      ]
     },
     "metadata": {},
     "output_type": "display_data"
    }
   ],
   "source": [
    "\n",
    "plt.figure()\n",
    "cnt = plt.contourf(PlaceCellObject['x_center_bins'],PlaceCellObject['y_center_bins'],PlaceCellObject['place_field_smoothed'],100)\n",
    "for c in cnt.collections:\n",
    "    c.set_edgecolor(\"face\")\n",
    "\n",
    "plt.plot(x_coordinates[PlaceCellObject['events_index']],y_coordinates[PlaceCellObject['events_index']],'r.')\n",
    "plt.colorbar()\n",
    "plt.title(f\"MI = {PlaceCellObject['mutualInfo_zscored']:0.3f} ; Events = {calcium_events}\")\n",
    "plt.show()"
   ]
  },
  {
   "cell_type": "code",
   "execution_count": null,
   "id": "b704fe0f-dbe8-4184-926b-a6dbb2b5af2d",
   "metadata": {},
   "outputs": [],
   "source": []
  },
  {
   "cell_type": "code",
   "execution_count": 192,
   "id": "2cf271ac-ee7c-4083-9c57-7c4812e4fcd0",
   "metadata": {},
   "outputs": [
    {
     "data": {
      "application/vnd.jupyter.widget-view+json": {
       "model_id": "a4d768b516454910913b2f659bf08f42",
       "version_major": 2,
       "version_minor": 0
      },
      "text/plain": [
       "Canvas(toolbar=Toolbar(toolitems=[('Home', 'Reset original view', 'home', 'home'), ('Back', 'Back to previous …"
      ]
     },
     "metadata": {},
     "output_type": "display_data"
    }
   ],
   "source": [
    "\n",
    "array_output = grid_spatial_autocorrelation(PlaceCellObject['place_field_smoothed'])\n",
    "array_output\n",
    "\n",
    "\n",
    "plt.figure()\n",
    "cnt = plt.contourf(array_output,100)\n",
    "for c in cnt.collections:\n",
    "    c.set_edgecolor(\"face\")\n",
    "\n",
    "plt.colorbar()\n",
    "plt.show()\n"
   ]
  },
  {
   "cell_type": "code",
   "execution_count": 193,
   "id": "8e67754d-ab17-493a-92a7-cdca76821a09",
   "metadata": {},
   "outputs": [
    {
     "data": {
      "application/vnd.jupyter.widget-view+json": {
       "model_id": "929c6c0a00554cfd8d2e911f6c4a7264",
       "version_major": 2,
       "version_minor": 0
      },
      "text/plain": [
       "Canvas(toolbar=Toolbar(toolitems=[('Home', 'Reset original view', 'home', 'home'), ('Back', 'Back to previous …"
      ]
     },
     "metadata": {},
     "output_type": "display_data"
    }
   ],
   "source": [
    "autoCorrRot = rotate(autoCorr, angle=30, reshape=False)\n",
    "\n",
    "\n",
    "plt.figure()\n",
    "cnt = plt.contourf(autoCorrRot,100)\n",
    "for c in cnt.collections:\n",
    "    c.set_edgecolor(\"face\")\n",
    "\n",
    "plt.colorbar()\n",
    "plt.show()\n"
   ]
  },
  {
   "cell_type": "code",
   "execution_count": 201,
   "id": "a9f8b8dc-0e25-4539-9a9c-a50122079fc1",
   "metadata": {},
   "outputs": [],
   "source": [
    "def get_gridness_index(array_output):\n",
    "\n",
    "    from scipy.ndimage.interpolation import rotate\n",
    "\n",
    "\n",
    "    array_output_zeroed = np.copy(array_output)\n",
    "    array_output_zeroed[np.isnan(array_output_zeroed)] = 0\n",
    "    autoCorr = np.copy(array_output_zeroed)\n",
    "    da = 3\n",
    "    angles = list(range(0, 180+da, da))\n",
    "    crossCorr = []\n",
    "    # Rotate and compute correlation coefficient\n",
    "    for angle in angles:\n",
    "        autoCorrRot = rotate(autoCorr, angle, reshape=False)\n",
    "        C = np.corrcoef(np.reshape(autoCorr, (1, autoCorr.size)),\n",
    "            np.reshape(autoCorrRot, (1, autoCorrRot.size)))\n",
    "        crossCorr.append(C[0, 1])\n",
    "\n",
    "    max_angles_i = (np.array([30, 90, 150]) / da).astype(int)\n",
    "    min_angles_i = (np.array([60, 120]) / da).astype(int)\n",
    "\n",
    "    maxima = np.max(np.array(crossCorr)[max_angles_i])\n",
    "    minima = np.min(np.array(crossCorr)[min_angles_i])\n",
    "    G = minima - maxima\n",
    "    return G\n",
    "\n",
    "        "
   ]
  },
  {
   "cell_type": "code",
   "execution_count": 196,
   "id": "9156005f-dca3-4715-bffe-7e50aa37f863",
   "metadata": {},
   "outputs": [
    {
     "data": {
      "application/vnd.jupyter.widget-view+json": {
       "model_id": "aa1c2c42ff244535b794e9f6a1e04d18",
       "version_major": 2,
       "version_minor": 0
      },
      "text/plain": [
       "Canvas(toolbar=Toolbar(toolitems=[('Home', 'Reset original view', 'home', 'home'), ('Back', 'Back to previous …"
      ]
     },
     "metadata": {},
     "output_type": "display_data"
    }
   ],
   "source": [
    "\n",
    "plt.figure()\n",
    "plt.plot(angles,crossCorr,'k')\n",
    "plt.show()\n"
   ]
  },
  {
   "cell_type": "code",
   "execution_count": null,
   "id": "19470d1b-0225-44c6-bfaf-1505e7adb257",
   "metadata": {},
   "outputs": [],
   "source": [
    "\n"
   ]
  },
  {
   "cell_type": "code",
   "execution_count": 130,
   "id": "3b871804-990b-41c8-9df1-0f6da1c9f662",
   "metadata": {},
   "outputs": [
    {
     "data": {
      "application/vnd.jupyter.widget-view+json": {
       "model_id": "911f3d38fb864fc6a42d95678da920ef",
       "version_major": 2,
       "version_minor": 0
      },
      "text/plain": [
       "Canvas(toolbar=Toolbar(toolitems=[('Home', 'Reset original view', 'home', 'home'), ('Back', 'Back to previous …"
      ]
     },
     "metadata": {},
     "output_type": "display_data"
    }
   ],
   "source": [
    "import scipy. signal as sig\n",
    "\n",
    "\n",
    "array_output = sig.correlate2d(PlaceCellObject['place_field_smoothed'],PlaceCellObject['place_field_smoothed'],mode='full')\n",
    "array_output\n",
    "\n",
    "\n",
    "plt.figure()\n",
    "cnt = plt.contourf(array_output,100)\n",
    "for c in cnt.collections:\n",
    "    c.set_edgecolor(\"face\")\n",
    "\n",
    "plt.colorbar()\n",
    "plt.show()\n",
    "\n"
   ]
  },
  {
   "cell_type": "code",
   "execution_count": 161,
   "id": "14895dc4-a707-4c85-b0c0-0317d63645a3",
   "metadata": {},
   "outputs": [],
   "source": [
    "def grid_spatial_autocorrelation(input_matrix):\n",
    "\n",
    "    matrix_image = input_matrix.copy()\n",
    "    kernel = input_matrix.copy()\n",
    "\n",
    "    [ma,na] = np.shape(matrix_image)\n",
    "    [mb,nb] = np.shape(kernel)\n",
    "\n",
    "    mc = np.max([ma+mb-1,ma,mb])\n",
    "    nc = np.max([na+nb-1,na,nb])\n",
    "\n",
    "    matrix_output = np.nan*np.zeros([mc,nc])\n",
    "\n",
    "    i_size = kernel.shape[0]\n",
    "    j_size = kernel.shape[1]\n",
    "\n",
    "    kernel_size_i,kernel_size_j = np.shape(kernel)\n",
    "    matrix_image_size = np.array(np.shape(matrix_image));\n",
    "\n",
    "    output_matrix_size = matrix_image_size + [2*npad_i-1, 2*npad_j-1];\n",
    "    work_mat = np.nan * np.zeros(output_matrix_size);\n",
    "    work_mat[(kernel_size_i):(kernel_size_i+matrix_image_size[0]),(kernel_size_j):(kernel_size_j+matrix_image_size[1])] = matrix_image\n",
    "\n",
    "    for i in range(np.shape(matrix_output)[0]):\n",
    "        for j in range(np.shape(matrix_output)[1]):\n",
    "\n",
    "            win1 = np.arange(i,kernel_size_i+i).astype(int)\n",
    "            win2 = np.arange(j,kernel_size_j+j).astype(int)\n",
    "\n",
    "            matrix_sliced = work_mat[win1,:][:,win2]; \n",
    "            matrix_sliced_kernel = matrix_sliced*kernel;                                             \n",
    "            keep = ~np.isnan(matrix_sliced_kernel)\n",
    "\n",
    "            n = np.sum(keep);\n",
    "\n",
    "            if n < 20:\n",
    "                matrix_output[i,j] = np.nan;\n",
    "\n",
    "            else:\n",
    "\n",
    "                sum_matrix_kernel_x_lagged = np.sum(matrix_sliced_kernel[keep]);\n",
    "                sum_matrix_lagged =   np.sum(matrix_sliced[keep]);\n",
    "                sum_matrix_kernel =   np.sum(kernel[keep]);\n",
    "                sum_matrix_lagged_2 =  np.sum(matrix_sliced[keep]**2);\n",
    "                sum_matrix_kernel_2 =  np.sum(kernel[keep]**2);\n",
    "\n",
    "                matrix_output[i,j] = (n*sum_matrix_kernel_x_lagged - sum_matrix_kernel*sum_matrix_lagged) / (np.sqrt(n*sum_matrix_kernel_2-sum_matrix_kernel**2) * np.sqrt(n*sum_matrix_lagged_2-sum_matrix_lagged**2));\n",
    "\n",
    "    return matrix_output\n",
    "\n"
   ]
  },
  {
   "cell_type": "code",
   "execution_count": null,
   "id": "69337e78-a0ab-4bab-b3f0-7012cda2a4a1",
   "metadata": {},
   "outputs": [],
   "source": []
  },
  {
   "cell_type": "code",
   "execution_count": null,
   "id": "4cc57526-dcd1-4455-bd8c-2aeb06eea74f",
   "metadata": {},
   "outputs": [],
   "source": []
  },
  {
   "cell_type": "code",
   "execution_count": 141,
   "id": "281b4f98-553a-476f-ad83-7750dc80d07d",
   "metadata": {},
   "outputs": [],
   "source": []
  },
  {
   "cell_type": "code",
   "execution_count": null,
   "id": "8c444882-4f6a-41e7-8afe-2cf295dc847e",
   "metadata": {},
   "outputs": [],
   "source": []
  },
  {
   "cell_type": "code",
   "execution_count": 202,
   "id": "2a41fd28-8227-4ae9-86d5-8129047146d9",
   "metadata": {},
   "outputs": [
    {
     "data": {
      "application/vnd.jupyter.widget-view+json": {
       "model_id": "ba2d3a7914e849eb82e8fc081145f037",
       "version_major": 2,
       "version_minor": 0
      },
      "text/plain": [
       "Canvas(toolbar=Toolbar(toolitems=[('Home', 'Reset original view', 'home', 'home'), ('Back', 'Back to previous …"
      ]
     },
     "metadata": {},
     "output_type": "display_data"
    },
    {
     "name": "stdout",
     "output_type": "stream",
     "text": [
      "0.1743591392198115\n"
     ]
    }
   ],
   "source": [
    "\n",
    "array_output = grid_spatial_autocorrelation(PlaceCellObject['place_field_smoothed'])\n",
    "\n",
    "plt.figure()\n",
    "cnt = plt.contourf(array_output,100)\n",
    "for c in cnt.collections:\n",
    "    c.set_edgecolor(\"face\")\n",
    "\n",
    "plt.colorbar()\n",
    "plt.show()\n",
    "gridness = get_gridness_index(array_output)\n",
    "print(gridness)\n"
   ]
  },
  {
   "cell_type": "code",
   "execution_count": 5,
   "id": "1df17ec0-8b2a-4cd8-a644-437ca17520b5",
   "metadata": {},
   "outputs": [],
   "source": []
  },
  {
   "cell_type": "code",
   "execution_count": null,
   "id": "219459f9-305f-451b-af56-66522d9051df",
   "metadata": {},
   "outputs": [],
   "source": []
  },
  {
   "cell_type": "code",
   "execution_count": null,
   "id": "66509d21-df0f-4ec6-8698-076444ca3149",
   "metadata": {},
   "outputs": [],
   "source": []
  },
  {
   "cell_type": "code",
   "execution_count": null,
   "id": "0ee339eb-5f02-4f4c-8f7c-45e801490ef8",
   "metadata": {},
   "outputs": [],
   "source": []
  },
  {
   "cell_type": "code",
   "execution_count": 9,
   "id": "d5691694-fe06-40c2-ac14-01ea0e265d83",
   "metadata": {},
   "outputs": [],
   "source": []
  },
  {
   "cell_type": "code",
   "execution_count": null,
   "id": "1830ca50-2040-4f05-8b80-748e2814c526",
   "metadata": {},
   "outputs": [],
   "source": []
  },
  {
   "cell_type": "code",
   "execution_count": null,
   "id": "99412465-a2ec-4b67-b9dd-e1197e398bd0",
   "metadata": {},
   "outputs": [],
   "source": []
  },
  {
   "cell_type": "code",
   "execution_count": null,
   "id": "fde90c5d-430a-45e3-9e43-c162bc019722",
   "metadata": {},
   "outputs": [],
   "source": []
  },
  {
   "cell_type": "code",
   "execution_count": null,
   "id": "f73883b7-91a4-421b-85d1-79fe2c203097",
   "metadata": {},
   "outputs": [],
   "source": []
  },
  {
   "cell_type": "code",
   "execution_count": null,
   "id": "d78158de-0d27-4dbe-ba8b-2d779dfced57",
   "metadata": {},
   "outputs": [],
   "source": []
  },
  {
   "cell_type": "code",
   "execution_count": null,
   "id": "88590ece-67a5-4f02-9210-84bf1b6c8b1d",
   "metadata": {},
   "outputs": [],
   "source": []
  },
  {
   "cell_type": "code",
   "execution_count": null,
   "id": "0cde201f-6d96-4bc6-a651-e2ab344a90ec",
   "metadata": {},
   "outputs": [],
   "source": []
  },
  {
   "cell_type": "code",
   "execution_count": null,
   "id": "93ff9e5d-5d68-4f30-9257-c90caa9ce232",
   "metadata": {},
   "outputs": [],
   "source": []
  },
  {
   "cell_type": "code",
   "execution_count": null,
   "id": "8c948734-71e2-4bc4-a673-d19d975c27b9",
   "metadata": {},
   "outputs": [],
   "source": []
  },
  {
   "cell_type": "code",
   "execution_count": null,
   "id": "f293e62d-988d-451a-a7e4-5994902cdb30",
   "metadata": {},
   "outputs": [],
   "source": []
  },
  {
   "cell_type": "code",
   "execution_count": null,
   "id": "d1c3bcf4-8fe9-4078-8850-21d1a673ffde",
   "metadata": {},
   "outputs": [],
   "source": []
  },
  {
   "cell_type": "code",
   "execution_count": null,
   "id": "ba17e0ce-5319-4a40-9ac3-fe432767452c",
   "metadata": {},
   "outputs": [],
   "source": []
  },
  {
   "cell_type": "code",
   "execution_count": null,
   "id": "76cb6fc0-5f4a-42ab-b492-ea142f6fce1b",
   "metadata": {},
   "outputs": [],
   "source": []
  },
  {
   "cell_type": "code",
   "execution_count": null,
   "id": "56b78ae0-5e33-4a88-b962-34263df1153b",
   "metadata": {},
   "outputs": [],
   "source": []
  },
  {
   "cell_type": "code",
   "execution_count": null,
   "id": "4183e240-a577-43a5-aa7d-592821b4124c",
   "metadata": {},
   "outputs": [],
   "source": []
  }
 ],
 "metadata": {
  "kernelspec": {
   "display_name": "Python 3 (ipykernel)",
   "language": "python",
   "name": "python3"
  },
  "language_info": {
   "codemirror_mode": {
    "name": "ipython",
    "version": 3
   },
   "file_extension": ".py",
   "mimetype": "text/x-python",
   "name": "python",
   "nbconvert_exporter": "python",
   "pygments_lexer": "ipython3",
   "version": "3.8.10"
  }
 },
 "nbformat": 4,
 "nbformat_minor": 5
}
