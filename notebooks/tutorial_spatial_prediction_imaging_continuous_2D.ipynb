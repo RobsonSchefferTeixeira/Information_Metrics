{
 "cells": [
  {
   "cell_type": "code",
   "execution_count": 1,
   "metadata": {},
   "outputs": [
    {
     "ename": "ModuleNotFoundError",
     "evalue": "No module named 'src.models.spatial_prediction_calcium_base'",
     "output_type": "error",
     "traceback": [
      "\u001b[31m---------------------------------------------------------------------------\u001b[39m",
      "\u001b[31mModuleNotFoundError\u001b[39m                       Traceback (most recent call last)",
      "\u001b[36mCell\u001b[39m\u001b[36m \u001b[39m\u001b[32mIn[1]\u001b[39m\u001b[32m, line 13\u001b[39m\n\u001b[32m     10\u001b[39m sys.path.append(information_metrics_dir)\n\u001b[32m     12\u001b[39m \u001b[38;5;28;01mimport\u001b[39;00m\u001b[38;5;250m \u001b[39m\u001b[34;01msrc\u001b[39;00m\u001b[34;01m.\u001b[39;00m\u001b[34;01mutils\u001b[39;00m\u001b[34;01m.\u001b[39;00m\u001b[34;01mhelper_functions\u001b[39;00m\u001b[38;5;250m \u001b[39m\u001b[38;5;28;01mas\u001b[39;00m\u001b[38;5;250m \u001b[39m\u001b[34;01mhf\u001b[39;00m\n\u001b[32m---> \u001b[39m\u001b[32m13\u001b[39m \u001b[38;5;28;01mimport\u001b[39;00m\u001b[38;5;250m \u001b[39m\u001b[34;01msrc\u001b[39;00m\u001b[34;01m.\u001b[39;00m\u001b[34;01mmodels\u001b[39;00m\u001b[34;01m.\u001b[39;00m\u001b[34;01mspatial_prediction_calcium_base\u001b[39;00m\u001b[38;5;250m \u001b[39m\u001b[38;5;28;01mas\u001b[39;00m\u001b[38;5;250m \u001b[39m\u001b[34;01msp\u001b[39;00m\n\u001b[32m     14\u001b[39m \u001b[38;5;28;01mimport\u001b[39;00m\u001b[38;5;250m \u001b[39m\u001b[34;01msrc\u001b[39;00m\u001b[34;01m.\u001b[39;00m\u001b[34;01mutils\u001b[39;00m\u001b[34;01m.\u001b[39;00m\u001b[34;01mbootstrapped_estimation\u001b[39;00m\u001b[38;5;250m \u001b[39m\u001b[38;5;28;01mas\u001b[39;00m\u001b[38;5;250m \u001b[39m\u001b[34;01mbe\u001b[39;00m\n\u001b[32m     15\u001b[39m \u001b[38;5;28;01mimport\u001b[39;00m\u001b[38;5;250m \u001b[39m\u001b[34;01msrc\u001b[39;00m\u001b[34;01m.\u001b[39;00m\u001b[34;01mutils\u001b[39;00m\u001b[34;01m.\u001b[39;00m\u001b[34;01mnormalizing_functions\u001b[39;00m\u001b[38;5;250m \u001b[39m\u001b[38;5;28;01mas\u001b[39;00m\u001b[38;5;250m \u001b[39m\u001b[34;01mnorm\u001b[39;00m\n",
      "\u001b[31mModuleNotFoundError\u001b[39m: No module named 'src.models.spatial_prediction_calcium_base'"
     ]
    }
   ],
   "source": [
    "\n",
    "import os\n",
    "import sys\n",
    "\n",
    "import numpy as np\n",
    "import matplotlib.pyplot as plt\n",
    "import scipy.signal as sig\n",
    "\n",
    "current_dir = os.getcwd()\n",
    "information_metrics_dir = os.path.dirname(current_dir)\n",
    "sys.path.append(information_metrics_dir)\n",
    "\n",
    "import src.utils.helper_functions as hf\n",
    "import src.models.spatial_prediction_calcium_base as sp\n",
    "import src.utils.bootstrapped_estimation as be\n",
    "import src.utils.normalizing_functions as norm\n",
    "\n",
    "from src.data.data_loader import LoadData\n",
    "from src.data.data_processing import ProcessData\n",
    "from src.utils import pre_processing_functions as pre_process\n",
    "\n",
    "%matplotlib widget\n"
   ]
  },
  {
   "cell_type": "markdown",
   "metadata": {},
   "source": [
    "- Parameters for Filename Creation and Saving:\n",
    "    These parameters assist in constructing a filename and saving the results. If you do not wish to save the results and prefer to work with the object directly, you can ignore these settings by setting the 'saving' flag to False.\n",
    "    - 'saving_string': Prefix used for creating the filename to save the results.\n",
    "    - 'animal_id': Identifier for the animal.\n",
    "    - 'dataset': Name of the dataset.\n",
    "    - 'day': Session or day of the experiment.\n",
    "    - 'neuron': Identifier for the neuron.\n",
    "    - 'trial': Identifier for the trial.\n",
    "    - 'saving_path': Directory path where the results will be saved.\n",
    "    - 'saving': Boolean flag indicating whether to save the results (True) or not (False).\n",
    "\n",
    "- Parameters for Signal and Tracking:\n",
    "    - 'sampling_rate': The rate at which the signal and tracking data are sampled.\n",
    "    - 'environment_edges': Coordinates defining the boundaries of the environment.\n",
    "\n",
    "- Inclusion Criteria for Analysis:\n",
    "    - 'min_time_spent': Minimum time an animal must spend in each xy bin to be considered.\n",
    "    - 'min_visits': Minimum number of visits required to each xy bin.\n",
    "    - 'min_speed_threshold': Minimum speed threshold in coordinate units for the analysis.\n",
    "\n",
    "- Information Parameters:\n",
    "    - 'x_bin_size': Size of x bins in coordinate units used to calculate mutual information.\n",
    "    - 'y_bin_size': Size of y bins in coordinate units used to calculate mutual information.\n",
    "    - 'nbins_cal': Number of calcium signal bins used to calculate mutual information.\n",
    "\n",
    "    Note: for x,y bin size, you should input the bin size; for calcium signal, you input the total amount of bins that will equally slice calcium amplitude (min and max values of calcium signal).\n",
    "    \n",
    "- Surrogate Analysis Parameters:\n",
    "    - 'shift_time': Time shift window (in seconds) for creating surrogate distributions by randomly shifting the signal from -shift_time to +shift_time.\n",
    "    - 'num_cores': Number of CPU cores to be used for the analysis. Set to -1 to utilize all available cores.\n",
    "    - 'num_surrogates': Number of surrogate distributions to generate.\n",
    "\n",
    "- Place Field Parameters:\n",
    "    - 'smoothing_size': Size of the smoothing area in bins for plotting place fields.\n",
    "    - 'percentile_threshold': Percentile threshold used to determine place field boundaries based on surrogate distributions.\n",
    "    - 'min_num_of_bins': Minimum number of bins required to define a place field.\n",
    "\n",
    "Note: Ensure that the variables input_signal,time_vector, x_coordinates and y_coordinates are vectors of the same size. You may need to downsample or upsample your signal or xy tracking coordinates to match their dimensions.\n"
   ]
  },
  {
   "cell_type": "markdown",
   "metadata": {},
   "source": [
    "# If you have pre-existing data, bypass the previous code cells and load the data directly\n",
    "# This is useful if you want to avoid re-running the preceding setup and instead work with already available data\n"
   ]
  },
  {
   "cell_type": "code",
   "execution_count": null,
   "metadata": {},
   "outputs": [],
   "source": [
    "# Initialize loader\n",
    "dataset = 'kinsky'\n",
    "loader = LoadData(dataset)\n",
    "\n",
    "# See what's available\n",
    "# loader.list_available()\n",
    "loader.show_jupyter_tree()\n"
   ]
  },
  {
   "cell_type": "code",
   "execution_count": null,
   "metadata": {},
   "outputs": [],
   "source": [
    "# Load session\n",
    "data = loader.load(mouse_id=3, day=1, session=1)\n",
    "\n",
    "x_coordinates = data['position']['x'].copy()\n",
    "y_coordinates = data['position']['y'].copy()\n",
    "time_vector = data['position']['time'].copy()\n",
    "sampling_rate = data['sampling_rate']\n",
    "environment_edges = data['environment_edges']\n",
    "raw_signal = data['traces']['raw'].copy()\n",
    "filtered_signal = data['traces']['filtered'].copy()\n",
    "diff_signal = data['traces']['diff'].copy()\n",
    "binary_signal = data['traces']['binary'].copy()\n"
   ]
  },
  {
   "cell_type": "code",
   "execution_count": null,
   "metadata": {},
   "outputs": [],
   "source": [
    "# Cells from fig 2C are 49,127,211,267 from\n",
    "# data_dir = f\"{project_root}/data/Kinsky/Mouse3 - G45/day 1/1 - square/\"\n",
    "\n",
    "# kinksy already provides a binary_signal. \n",
    "# But you can define your own using the pre_processing_functions.preprocess_signal\n",
    "\n",
    "cell = 2\n",
    "normalized_signal = norm.z_score_norm(raw_signal[cell,:])\n",
    "signal_type = 'binary'\n",
    "binary_signal = pre_process.preprocess_signal(normalized_signal, sampling_rate, signal_type, z_threshold = 1)\n",
    "\n",
    "plt.figure()\n",
    "plt.plot(time_vector,raw_signal[cell,:],'k')\n",
    "\n",
    "plt.plot(time_vector,filtered_signal[cell,:],'r')\n",
    "\n",
    "plt.plot(time_vector[binary_signal==1],raw_signal[cell,:][binary_signal==1],'g.')\n",
    "plt.show()\n",
    "\n",
    "\n",
    "plt.figure()\n",
    "plt.plot(x_coordinates,y_coordinates,'k',zorder = 5)\n",
    "plt.scatter(x_coordinates[binary_signal==1],y_coordinates[binary_signal==1],color = 'red', alpha=0.5, zorder = 10)\n",
    "plt.grid(ls='--',zorder = 1)\n",
    "plt.show()\n"
   ]
  },
  {
   "cell_type": "code",
   "execution_count": null,
   "metadata": {},
   "outputs": [],
   "source": [
    "\n",
    "# # Cells from fig 2C are 49,127,211,267 from\n",
    "# # data_dir = f\"{project_root}/data/Kinsky/Mouse3 - G45/day 1/1 - square/\"\n",
    "# cell = 2\n",
    "\n",
    "# plt.figure()\n",
    "# plt.plot(time_vector,raw_signal[cell,:],'k')\n",
    "# plt.show()\n",
    "\n",
    "# plt.figure()\n",
    "# plt.plot(x_coordinates,y_coordinates,'k')\n",
    "# plt.show()\n"
   ]
  },
  {
   "cell_type": "code",
   "execution_count": null,
   "metadata": {},
   "outputs": [],
   "source": [
    "\n",
    "environment_edges = [[5,35],[15,45]]\n"
   ]
  },
  {
   "cell_type": "code",
   "execution_count": null,
   "metadata": {},
   "outputs": [],
   "source": [
    "# And test it\n",
    "\n",
    "plt.figure()\n",
    "plt.plot(x_coordinates,y_coordinates,'k',zorder = 5)\n",
    "plt.scatter(x_coordinates[binary_signal==1],y_coordinates[binary_signal==1],color = 'red', alpha=0.5, zorder = 10)\n",
    "plt.xlim([environment_edges[0][0],environment_edges[0][1]])\n",
    "plt.ylim([environment_edges[1][0],environment_edges[1][1]])\n",
    "plt.grid(ls='--',zorder = 1)\n",
    "plt.show()\n"
   ]
  },
  {
   "cell_type": "code",
   "execution_count": null,
   "metadata": {},
   "outputs": [],
   "source": [
    "# You should first set your environment edges. You can think of it as a retangular box in cm.\n",
    "# environment_edges = [[0,30],[0,50]] # in cm [[x_min,x_max],[y_min,y_max]]\n",
    "# if you don`t set it, the script will use min and max coordinates as edges.\n",
    "cell = 2\n",
    "data_info = ProcessData(filtered_signal[cell,:], x_coordinates, y_coordinates, time_vector, sampling_rate, environment_edges)\n"
   ]
  },
  {
   "cell_type": "code",
   "execution_count": null,
   "metadata": {},
   "outputs": [],
   "source": [
    "cell = 2\n",
    "truncate_signal = filtered_signal[cell,:].copy()\n",
    "truncate_signal[truncate_signal < 0] = 0\n",
    "data_info = ProcessData(truncate_signal, x_coordinates, y_coordinates, time_vector, sampling_rate, environment_edges)\n"
   ]
  },
  {
   "cell_type": "code",
   "execution_count": null,
   "metadata": {},
   "outputs": [],
   "source": [
    "signal.shape"
   ]
  },
  {
   "cell_type": "code",
   "execution_count": null,
   "metadata": {},
   "outputs": [],
   "source": [
    "\n",
    "data_dict = np.load(f\"/home/apolo/Documents/github_projects/information_metrics/data/simulation/simulated_signal.npy\",allow_pickle=True).item()\n",
    "\n",
    "signal = data_dict['signal']\n",
    "time_vector = data_dict['time_vector']\n",
    "x_coordinates = data_dict['x_coordinates']\n",
    "y_coordinates = data_dict['y_coordinates']\n",
    "environment_edges = data_dict['environment_edges']\n",
    "sampling_rate = data_dict['sampling_rate']\n",
    "spike_times = data_dict['spike_times']\n",
    "data_dict.keys()\n",
    "# And test it\n",
    "\n",
    "plt.figure()\n",
    "plt.plot(x_coordinates,y_coordinates,'k',zorder = 5)\n",
    "plt.scatter(x_coordinates[spike_times],y_coordinates[spike_times],color = 'red', alpha=0.5, zorder = 10)\n",
    "plt.xlim([environment_edges[0][0],environment_edges[0][1]])\n",
    "plt.ylim([environment_edges[1][0],environment_edges[1][1]])\n",
    "plt.grid(ls='--',zorder = 1)\n",
    "plt.show()\n",
    "\n"
   ]
  },
  {
   "cell_type": "code",
   "execution_count": null,
   "metadata": {
    "scrolled": true
   },
   "outputs": [],
   "source": [
    "# Arguments taken from the paper \"Hippocampal Place Fields Maintain a Coherent and\n",
    "# Flexible Map across Long Timescales\"\n",
    "data_info = ProcessData(signal, x_coordinates, y_coordinates, time_vector, sampling_rate, environment_edges)\n",
    "\n",
    "signal_type = 'raw'\n",
    "\n",
    "# Create a dictionary to hold input parameters for further processing\n",
    "input_dict = {\n",
    "# Construct the filename and other identifiers for saving the results\n",
    "'saving_string' : 'SpatialMetrics.' + signal_type,  # Prefix for the filename\n",
    "'animal_id' : 'NeuronModel',  # Identifier for the animal or model\n",
    "'dataset' : 'Simulation',  # Name of the dataset\n",
    "'day' : 1,  # Day or session number\n",
    "'neuron' : 1,  # Neuron identifier\n",
    "'trial' : None,  # Trial identifier (optional, can be None)\n",
    "'saving_path' : None,  # Directory path for saving results (optional, can be None)\n",
    "'saving' : False,  # Flag indicating whether to save the results (False means no saving)\n",
    "'signal_type' : signal_type,\n",
    "\n",
    "# Set inclusion criteria for the analysis\n",
    "'min_time_spent' : 0,  # Minimum time an animal must spend in each xy bin in time_vector units (usually, in seconds)\n",
    "'min_visits' : 0,  # Minimum number of visits required in each xy bin\n",
    "'min_speed_threshold' : 0,  # Minimum speed threshold (in coordinate units [e.g., cm, pixels])\n",
    "'speed_smoothing_sigma' : 0.5,  # Std of the gaussian smooth. Units is the same as time vector (seconds, for instance)\n",
    "\n",
    "# Set parameters for plotting and spatial information calculation\n",
    "'x_bin_size' : 1,  # Size of x bins (in coordinate units [e.g., cm, pixels])\n",
    "'y_bin_size' : 1,  # Size of y bins (in coordinate units [e.g., cm, pixels])\n",
    "'map_smoothing_sigma_x' : 2,  # Size of the gaussian smoothing area (std in coordinate units [e.g., cm, pixels]) for plotting activity maps\n",
    "'map_smoothing_sigma_y' : 2, # Size of the gaussian smoothing area (std in coordinate units [e.g., cm, pixels]) for plotting activity maps\n",
    "\n",
    "# Set parameters for information calculation\n",
    "'nbins_cal' : 10,  # amount of calcium signal bins in coordinate units (cm)\n",
    "\n",
    "# Set parameters for surrogate analysis\n",
    "'shift_time' : 200,  # Time shift window in seconds for creating surrogate distributions\n",
    "'num_cores' : -1,  # Number of CPU cores to use (set to -1 to use all available cores)\n",
    "'num_surrogates' : 800,  # Number of surrogate distributions to generate\n",
    "\n",
    "'num_of_folds' : 10, \n",
    "'classifier' : 'GaussianBayes'\n",
    "\n",
    "}\n",
    "\n",
    "spatial_prediction = sp.SpatialPrediction(**input_dict)\n",
    "spatial_prediction_output = spatial_prediction.main(data_info)\n"
   ]
  },
  {
   "cell_type": "code",
   "execution_count": null,
   "metadata": {},
   "outputs": [],
   "source": [
    "\n",
    "plt.figure(figsize=(12,4))\n",
    "\n",
    "plt.subplot(1,2,1)\n",
    "plt.pcolormesh(spatial_prediction_output['x_center_bins'],spatial_prediction_output['y_center_bins'],spatial_prediction_output['spatial_error'],cmap='jet')\n",
    "plt.colorbar()\n",
    "plt.xlabel('x coordinates',fontsize=14)\n",
    "plt.ylabel('y coordinates',fontsize=14)\n",
    "plt.xlim([data_info.environment_edges[0][0],data_info.environment_edges[0][1]])\n",
    "plt.ylim([data_info.environment_edges[1][0],data_info.environment_edges[1][1]])\n",
    "plt.gca().set_aspect('equal', adjustable='box')\n",
    "\n",
    "plt.subplot(1,2,2)\n",
    "plt.contourf(spatial_prediction_output['x_center_bins'],spatial_prediction_output['y_center_bins'],spatial_prediction_output['spatial_error_smoothed'],100)\n",
    "plt.colorbar()\n",
    "plt.xlabel('x coordinates',fontsize=14)\n",
    "plt.ylabel('y coordinates',fontsize=14)\n",
    "plt.xlim([data_info.environment_edges[0][0],data_info.environment_edges[0][1]])\n",
    "plt.ylim([data_info.environment_edges[1][0],data_info.environment_edges[1][1]])\n",
    "plt.gca().set_aspect('equal', adjustable='box')\n",
    "\n",
    "plt.suptitle(spatial_prediction_output['mean_error'])\n",
    "\n",
    "plt.show()\n"
   ]
  },
  {
   "cell_type": "code",
   "execution_count": null,
   "metadata": {},
   "outputs": [],
   "source": []
  },
  {
   "cell_type": "code",
   "execution_count": null,
   "metadata": {},
   "outputs": [],
   "source": []
  },
  {
   "cell_type": "code",
   "execution_count": null,
   "metadata": {},
   "outputs": [],
   "source": []
  },
  {
   "cell_type": "code",
   "execution_count": null,
   "metadata": {},
   "outputs": [],
   "source": [
    "spatial_error = spatial_prediction_output['spatial_error'].copy()\n",
    "spatial_error_shifted = spatial_prediction_output['spatial_error_shifted'].copy()\n",
    "spatial_error_zscored = (spatial_error - np.nanmean(spatial_error_shifted,0))/np.nanstd(spatial_error_shifted,0)\n",
    "\n",
    "plt.figure()\n",
    "plt.pcolormesh(spatial_prediction_output['x_center_bins'],spatial_prediction_output['y_center_bins'],spatial_error_zscored)\n",
    "plt.colorbar()\n",
    "plt.xlabel('x coordinates',fontsize=14)\n",
    "plt.ylabel('y coordinates',fontsize=14)\n",
    "plt.xlim([data_info.environment_edges[0][0],data_info.environment_edges[0][1]])\n",
    "plt.ylim([data_info.environment_edges[1][0],data_info.environment_edges[1][1]])\n",
    "\n",
    "plt.gca().set_aspect('equal', adjustable='box')\n",
    "plt.show()\n"
   ]
  },
  {
   "cell_type": "code",
   "execution_count": null,
   "metadata": {},
   "outputs": [],
   "source": [
    "spatial_prediction_output.keys()"
   ]
  },
  {
   "cell_type": "code",
   "execution_count": null,
   "metadata": {},
   "outputs": [],
   "source": [
    "\n",
    "mean_error = spatial_prediction_output['mean_error']\n",
    "counts,bins = np.histogram(spatial_prediction_output['mean_error_shifted'],200)\n",
    "bins_centers = bins[0:-1] + np.diff(bins)\n",
    "bin_width = np.diff(bins_centers)[0]\n",
    "\n",
    "plt.figure()\n",
    "plt.bar(bins_centers,counts,color='black',width=bin_width,linewidth=1,edgecolor='black')\n",
    "plt.plot([mean_error,mean_error],[0,np.max(counts)],'r--',linewidth=6)\n",
    "plt.title(\"Mean Error z-scored = {0:.2f}; p-value = {1:.4f}\".format(spatial_prediction_output['mean_error_zscored'],spatial_prediction_output['mean_error_pvalue']),fontsize=16)\n",
    "plt.xlabel('Error (cm)',fontsize=14)\n",
    "plt.ylabel('Counts',fontsize=14)\n",
    "plt.tight_layout()\n",
    "plt.show()\n",
    "\n"
   ]
  },
  {
   "cell_type": "code",
   "execution_count": null,
   "metadata": {},
   "outputs": [],
   "source": []
  }
 ],
 "metadata": {
  "kernelspec": {
   "display_name": "Python 3 (ipykernel)",
   "language": "python",
   "name": "python3"
  },
  "language_info": {
   "codemirror_mode": {
    "name": "ipython",
    "version": 3
   },
   "file_extension": ".py",
   "mimetype": "text/x-python",
   "name": "python",
   "nbconvert_exporter": "python",
   "pygments_lexer": "ipython3",
   "version": "3.13.0"
  },
  "widgets": {
   "application/vnd.jupyter.widget-state+json": {
    "state": {},
    "version_major": 2,
    "version_minor": 0
   }
  }
 },
 "nbformat": 4,
 "nbformat_minor": 4
}
